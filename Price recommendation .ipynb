{
 "cells": [
  {
   "cell_type": "code",
   "execution_count": 1,
   "id": "ad453ef3",
   "metadata": {},
   "outputs": [],
   "source": [
    "import numpy as np\n",
    "import pandas as pd\n",
    "import matplotlib.pyplot as plt\n",
    "import seaborn as sns"
   ]
  },
  {
   "cell_type": "code",
   "execution_count": 2,
   "id": "d1669e56",
   "metadata": {},
   "outputs": [
    {
     "data": {
      "text/html": [
       "<div>\n",
       "<style scoped>\n",
       "    .dataframe tbody tr th:only-of-type {\n",
       "        vertical-align: middle;\n",
       "    }\n",
       "\n",
       "    .dataframe tbody tr th {\n",
       "        vertical-align: top;\n",
       "    }\n",
       "\n",
       "    .dataframe thead th {\n",
       "        text-align: right;\n",
       "    }\n",
       "</style>\n",
       "<table border=\"1\" class=\"dataframe\">\n",
       "  <thead>\n",
       "    <tr style=\"text-align: right;\">\n",
       "      <th></th>\n",
       "      <th>train_id</th>\n",
       "      <th>name</th>\n",
       "      <th>item_condition_id</th>\n",
       "      <th>category_name</th>\n",
       "      <th>brand_name</th>\n",
       "      <th>price</th>\n",
       "      <th>shipping</th>\n",
       "      <th>item_description</th>\n",
       "    </tr>\n",
       "  </thead>\n",
       "  <tbody>\n",
       "    <tr>\n",
       "      <th>0</th>\n",
       "      <td>0</td>\n",
       "      <td>MLB Cincinnati Reds T Shirt Size XL</td>\n",
       "      <td>3</td>\n",
       "      <td>Men/Tops/T-shirts</td>\n",
       "      <td>NaN</td>\n",
       "      <td>10.0</td>\n",
       "      <td>1</td>\n",
       "      <td>No description yet</td>\n",
       "    </tr>\n",
       "    <tr>\n",
       "      <th>1</th>\n",
       "      <td>1</td>\n",
       "      <td>Razer BlackWidow Chroma Keyboard</td>\n",
       "      <td>3</td>\n",
       "      <td>Electronics/Computers &amp; Tablets/Components &amp; P...</td>\n",
       "      <td>Razer</td>\n",
       "      <td>52.0</td>\n",
       "      <td>0</td>\n",
       "      <td>This keyboard is in great condition and works ...</td>\n",
       "    </tr>\n",
       "    <tr>\n",
       "      <th>3</th>\n",
       "      <td>3</td>\n",
       "      <td>Leather Horse Statues</td>\n",
       "      <td>1</td>\n",
       "      <td>Home/Home Décor/Home Décor Accents</td>\n",
       "      <td>NaN</td>\n",
       "      <td>35.0</td>\n",
       "      <td>1</td>\n",
       "      <td>New with tags. Leather horses. Retail for [rm]...</td>\n",
       "    </tr>\n",
       "    <tr>\n",
       "      <th>4</th>\n",
       "      <td>4</td>\n",
       "      <td>24K GOLD plated rose</td>\n",
       "      <td>1</td>\n",
       "      <td>Women/Jewelry/Necklaces</td>\n",
       "      <td>NaN</td>\n",
       "      <td>44.0</td>\n",
       "      <td>0</td>\n",
       "      <td>Complete with certificate of authenticity</td>\n",
       "    </tr>\n",
       "    <tr>\n",
       "      <th>5</th>\n",
       "      <td>5</td>\n",
       "      <td>Bundled items requested for Ruie</td>\n",
       "      <td>3</td>\n",
       "      <td>Women/Other/Other</td>\n",
       "      <td>NaN</td>\n",
       "      <td>59.0</td>\n",
       "      <td>0</td>\n",
       "      <td>Banana republic bottoms, Candies skirt with ma...</td>\n",
       "    </tr>\n",
       "  </tbody>\n",
       "</table>\n",
       "</div>"
      ],
      "text/plain": [
       "   train_id                                 name  item_condition_id  \\\n",
       "0         0  MLB Cincinnati Reds T Shirt Size XL                  3   \n",
       "1         1     Razer BlackWidow Chroma Keyboard                  3   \n",
       "3         3                Leather Horse Statues                  1   \n",
       "4         4                 24K GOLD plated rose                  1   \n",
       "5         5     Bundled items requested for Ruie                  3   \n",
       "\n",
       "                                       category_name brand_name  price  \\\n",
       "0                                  Men/Tops/T-shirts        NaN   10.0   \n",
       "1  Electronics/Computers & Tablets/Components & P...      Razer   52.0   \n",
       "3                 Home/Home Décor/Home Décor Accents        NaN   35.0   \n",
       "4                            Women/Jewelry/Necklaces        NaN   44.0   \n",
       "5                                  Women/Other/Other        NaN   59.0   \n",
       "\n",
       "   shipping                                   item_description  \n",
       "0         1                                 No description yet  \n",
       "1         0  This keyboard is in great condition and works ...  \n",
       "3         1  New with tags. Leather horses. Retail for [rm]...  \n",
       "4         0          Complete with certificate of authenticity  \n",
       "5         0  Banana republic bottoms, Candies skirt with ma...  "
      ]
     },
     "execution_count": 2,
     "metadata": {},
     "output_type": "execute_result"
    }
   ],
   "source": [
    "df = pd.read_csv('train.tsv', sep = '\\t')\n",
    "msk = np.random.rand(len(df)) < 0.8\n",
    "train = df[msk]\n",
    "test = df[~msk]\n",
    "train.head()"
   ]
  },
  {
   "cell_type": "code",
   "execution_count": null,
   "id": "8df039c6",
   "metadata": {},
   "outputs": [],
   "source": []
  },
  {
   "cell_type": "code",
   "execution_count": 3,
   "id": "bb46f60c",
   "metadata": {},
   "outputs": [
    {
     "data": {
      "text/html": [
       "<div>\n",
       "<style scoped>\n",
       "    .dataframe tbody tr th:only-of-type {\n",
       "        vertical-align: middle;\n",
       "    }\n",
       "\n",
       "    .dataframe tbody tr th {\n",
       "        vertical-align: top;\n",
       "    }\n",
       "\n",
       "    .dataframe thead th {\n",
       "        text-align: right;\n",
       "    }\n",
       "</style>\n",
       "<table border=\"1\" class=\"dataframe\">\n",
       "  <thead>\n",
       "    <tr style=\"text-align: right;\">\n",
       "      <th></th>\n",
       "      <th>train_id</th>\n",
       "      <th>name</th>\n",
       "      <th>item_condition_id</th>\n",
       "      <th>category_name</th>\n",
       "      <th>brand_name</th>\n",
       "      <th>price</th>\n",
       "      <th>shipping</th>\n",
       "      <th>item_description</th>\n",
       "    </tr>\n",
       "  </thead>\n",
       "  <tbody>\n",
       "    <tr>\n",
       "      <th>0</th>\n",
       "      <td>0</td>\n",
       "      <td>MLB Cincinnati Reds T Shirt Size XL</td>\n",
       "      <td>3</td>\n",
       "      <td>Men/Tops/T-shirts</td>\n",
       "      <td>NaN</td>\n",
       "      <td>10.0</td>\n",
       "      <td>1</td>\n",
       "      <td>No description yet</td>\n",
       "    </tr>\n",
       "    <tr>\n",
       "      <th>1</th>\n",
       "      <td>1</td>\n",
       "      <td>Razer BlackWidow Chroma Keyboard</td>\n",
       "      <td>3</td>\n",
       "      <td>Electronics/Computers &amp; Tablets/Components &amp; P...</td>\n",
       "      <td>Razer</td>\n",
       "      <td>52.0</td>\n",
       "      <td>0</td>\n",
       "      <td>This keyboard is in great condition and works ...</td>\n",
       "    </tr>\n",
       "    <tr>\n",
       "      <th>3</th>\n",
       "      <td>3</td>\n",
       "      <td>Leather Horse Statues</td>\n",
       "      <td>1</td>\n",
       "      <td>Home/Home Décor/Home Décor Accents</td>\n",
       "      <td>NaN</td>\n",
       "      <td>35.0</td>\n",
       "      <td>1</td>\n",
       "      <td>New with tags. Leather horses. Retail for [rm]...</td>\n",
       "    </tr>\n",
       "    <tr>\n",
       "      <th>4</th>\n",
       "      <td>4</td>\n",
       "      <td>24K GOLD plated rose</td>\n",
       "      <td>1</td>\n",
       "      <td>Women/Jewelry/Necklaces</td>\n",
       "      <td>NaN</td>\n",
       "      <td>44.0</td>\n",
       "      <td>0</td>\n",
       "      <td>Complete with certificate of authenticity</td>\n",
       "    </tr>\n",
       "    <tr>\n",
       "      <th>5</th>\n",
       "      <td>5</td>\n",
       "      <td>Bundled items requested for Ruie</td>\n",
       "      <td>3</td>\n",
       "      <td>Women/Other/Other</td>\n",
       "      <td>NaN</td>\n",
       "      <td>59.0</td>\n",
       "      <td>0</td>\n",
       "      <td>Banana republic bottoms, Candies skirt with ma...</td>\n",
       "    </tr>\n",
       "    <tr>\n",
       "      <th>...</th>\n",
       "      <td>...</td>\n",
       "      <td>...</td>\n",
       "      <td>...</td>\n",
       "      <td>...</td>\n",
       "      <td>...</td>\n",
       "      <td>...</td>\n",
       "      <td>...</td>\n",
       "      <td>...</td>\n",
       "    </tr>\n",
       "    <tr>\n",
       "      <th>1482528</th>\n",
       "      <td>1482528</td>\n",
       "      <td>Victoria's Secret Tankini Sz. Large</td>\n",
       "      <td>2</td>\n",
       "      <td>Women/Athletic Apparel/Sports Bras</td>\n",
       "      <td>Victoria's Secret</td>\n",
       "      <td>18.0</td>\n",
       "      <td>1</td>\n",
       "      <td>Purple and Paisley Victoria's Secret Tankini S...</td>\n",
       "    </tr>\n",
       "    <tr>\n",
       "      <th>1482529</th>\n",
       "      <td>1482529</td>\n",
       "      <td>Men's UA [rm]</td>\n",
       "      <td>2</td>\n",
       "      <td>Men/Athletic Apparel/Shirts &amp; Tops</td>\n",
       "      <td>Under Armour</td>\n",
       "      <td>34.0</td>\n",
       "      <td>0</td>\n",
       "      <td>[rm] for the set both in perfect condition no ...</td>\n",
       "    </tr>\n",
       "    <tr>\n",
       "      <th>1482530</th>\n",
       "      <td>1482530</td>\n",
       "      <td>Free People Inspired Dress</td>\n",
       "      <td>2</td>\n",
       "      <td>Women/Dresses/Mid-Calf</td>\n",
       "      <td>Free People</td>\n",
       "      <td>20.0</td>\n",
       "      <td>1</td>\n",
       "      <td>Lace, says size small but fits medium perfectl...</td>\n",
       "    </tr>\n",
       "    <tr>\n",
       "      <th>1482532</th>\n",
       "      <td>1482532</td>\n",
       "      <td>21 day fix containers and eating plan</td>\n",
       "      <td>2</td>\n",
       "      <td>Sports &amp; Outdoors/Exercise/Fitness accessories</td>\n",
       "      <td>NaN</td>\n",
       "      <td>12.0</td>\n",
       "      <td>0</td>\n",
       "      <td>Used once or twice, still in great shape.</td>\n",
       "    </tr>\n",
       "    <tr>\n",
       "      <th>1482533</th>\n",
       "      <td>1482533</td>\n",
       "      <td>World markets lanterns</td>\n",
       "      <td>3</td>\n",
       "      <td>Home/Home Décor/Home Décor Accents</td>\n",
       "      <td>NaN</td>\n",
       "      <td>45.0</td>\n",
       "      <td>1</td>\n",
       "      <td>There is 2 of each one that you see! So 2 red ...</td>\n",
       "    </tr>\n",
       "  </tbody>\n",
       "</table>\n",
       "<p>1185795 rows × 8 columns</p>\n",
       "</div>"
      ],
      "text/plain": [
       "         train_id                                   name  item_condition_id  \\\n",
       "0               0    MLB Cincinnati Reds T Shirt Size XL                  3   \n",
       "1               1       Razer BlackWidow Chroma Keyboard                  3   \n",
       "3               3                  Leather Horse Statues                  1   \n",
       "4               4                   24K GOLD plated rose                  1   \n",
       "5               5       Bundled items requested for Ruie                  3   \n",
       "...           ...                                    ...                ...   \n",
       "1482528   1482528    Victoria's Secret Tankini Sz. Large                  2   \n",
       "1482529   1482529                          Men's UA [rm]                  2   \n",
       "1482530   1482530             Free People Inspired Dress                  2   \n",
       "1482532   1482532  21 day fix containers and eating plan                  2   \n",
       "1482533   1482533                 World markets lanterns                  3   \n",
       "\n",
       "                                             category_name         brand_name  \\\n",
       "0                                        Men/Tops/T-shirts                NaN   \n",
       "1        Electronics/Computers & Tablets/Components & P...              Razer   \n",
       "3                       Home/Home Décor/Home Décor Accents                NaN   \n",
       "4                                  Women/Jewelry/Necklaces                NaN   \n",
       "5                                        Women/Other/Other                NaN   \n",
       "...                                                    ...                ...   \n",
       "1482528                 Women/Athletic Apparel/Sports Bras  Victoria's Secret   \n",
       "1482529                 Men/Athletic Apparel/Shirts & Tops       Under Armour   \n",
       "1482530                             Women/Dresses/Mid-Calf        Free People   \n",
       "1482532     Sports & Outdoors/Exercise/Fitness accessories                NaN   \n",
       "1482533                 Home/Home Décor/Home Décor Accents                NaN   \n",
       "\n",
       "         price  shipping                                   item_description  \n",
       "0         10.0         1                                 No description yet  \n",
       "1         52.0         0  This keyboard is in great condition and works ...  \n",
       "3         35.0         1  New with tags. Leather horses. Retail for [rm]...  \n",
       "4         44.0         0          Complete with certificate of authenticity  \n",
       "5         59.0         0  Banana republic bottoms, Candies skirt with ma...  \n",
       "...        ...       ...                                                ...  \n",
       "1482528   18.0         1  Purple and Paisley Victoria's Secret Tankini S...  \n",
       "1482529   34.0         0  [rm] for the set both in perfect condition no ...  \n",
       "1482530   20.0         1  Lace, says size small but fits medium perfectl...  \n",
       "1482532   12.0         0          Used once or twice, still in great shape.  \n",
       "1482533   45.0         1  There is 2 of each one that you see! So 2 red ...  \n",
       "\n",
       "[1185795 rows x 8 columns]"
      ]
     },
     "execution_count": 3,
     "metadata": {},
     "output_type": "execute_result"
    }
   ],
   "source": [
    "train"
   ]
  },
  {
   "cell_type": "code",
   "execution_count": null,
   "id": "c5f9e92b",
   "metadata": {},
   "outputs": [],
   "source": []
  },
  {
   "cell_type": "code",
   "execution_count": 4,
   "id": "afe0c7dd",
   "metadata": {},
   "outputs": [
    {
     "data": {
      "text/plain": [
       "(1185795, 8)"
      ]
     },
     "execution_count": 4,
     "metadata": {},
     "output_type": "execute_result"
    }
   ],
   "source": [
    "train.shape"
   ]
  },
  {
   "cell_type": "code",
   "execution_count": 5,
   "id": "5c5a04cc",
   "metadata": {},
   "outputs": [
    {
     "data": {
      "text/plain": [
       "Index(['train_id', 'name', 'item_condition_id', 'category_name', 'brand_name',\n",
       "       'price', 'shipping', 'item_description'],\n",
       "      dtype='object')"
      ]
     },
     "execution_count": 5,
     "metadata": {},
     "output_type": "execute_result"
    }
   ],
   "source": [
    "train.columns"
   ]
  },
  {
   "cell_type": "code",
   "execution_count": 6,
   "id": "9a932ace",
   "metadata": {},
   "outputs": [
    {
     "name": "stdout",
     "output_type": "stream",
     "text": [
      "<class 'pandas.core.frame.DataFrame'>\n",
      "Int64Index: 1185795 entries, 0 to 1482533\n",
      "Data columns (total 8 columns):\n",
      " #   Column             Non-Null Count    Dtype  \n",
      "---  ------             --------------    -----  \n",
      " 0   train_id           1185795 non-null  int64  \n",
      " 1   name               1185795 non-null  object \n",
      " 2   item_condition_id  1185795 non-null  int64  \n",
      " 3   category_name      1180745 non-null  object \n",
      " 4   brand_name         679751 non-null   object \n",
      " 5   price              1185795 non-null  float64\n",
      " 6   shipping           1185795 non-null  int64  \n",
      " 7   item_description   1185792 non-null  object \n",
      "dtypes: float64(1), int64(3), object(4)\n",
      "memory usage: 81.4+ MB\n"
     ]
    }
   ],
   "source": [
    "train.info()"
   ]
  },
  {
   "cell_type": "code",
   "execution_count": 7,
   "id": "7ce07c7f",
   "metadata": {},
   "outputs": [
    {
     "data": {
      "text/plain": [
       "train_id                  0\n",
       "name                      0\n",
       "item_condition_id         0\n",
       "category_name          5050\n",
       "brand_name           506044\n",
       "price                     0\n",
       "shipping                  0\n",
       "item_description          3\n",
       "dtype: int64"
      ]
     },
     "execution_count": 7,
     "metadata": {},
     "output_type": "execute_result"
    }
   ],
   "source": [
    "train.isnull().sum()"
   ]
  },
  {
   "cell_type": "markdown",
   "id": "c4e9c915",
   "metadata": {},
   "source": [
    "As we can see category_name, brand_name, and item_description have missing values"
   ]
  },
  {
   "cell_type": "markdown",
   "id": "6faac707",
   "metadata": {},
   "source": [
    "so i will be droping all th rows of this columns having missing values so that it wont effect the model later."
   ]
  },
  {
   "cell_type": "code",
   "execution_count": null,
   "id": "230eca74",
   "metadata": {},
   "outputs": [],
   "source": []
  },
  {
   "cell_type": "code",
   "execution_count": null,
   "id": "601d6334",
   "metadata": {},
   "outputs": [],
   "source": []
  },
  {
   "cell_type": "code",
   "execution_count": 8,
   "id": "f524ca7e",
   "metadata": {},
   "outputs": [
    {
     "data": {
      "text/html": [
       "<div>\n",
       "<style scoped>\n",
       "    .dataframe tbody tr th:only-of-type {\n",
       "        vertical-align: middle;\n",
       "    }\n",
       "\n",
       "    .dataframe tbody tr th {\n",
       "        vertical-align: top;\n",
       "    }\n",
       "\n",
       "    .dataframe thead th {\n",
       "        text-align: right;\n",
       "    }\n",
       "</style>\n",
       "<table border=\"1\" class=\"dataframe\">\n",
       "  <thead>\n",
       "    <tr style=\"text-align: right;\">\n",
       "      <th></th>\n",
       "      <th>train_id</th>\n",
       "      <th>name</th>\n",
       "      <th>item_condition_id</th>\n",
       "      <th>category_name</th>\n",
       "      <th>brand_name</th>\n",
       "      <th>price</th>\n",
       "      <th>shipping</th>\n",
       "      <th>item_description</th>\n",
       "    </tr>\n",
       "  </thead>\n",
       "  <tbody>\n",
       "    <tr>\n",
       "      <th>1</th>\n",
       "      <td>1</td>\n",
       "      <td>Razer BlackWidow Chroma Keyboard</td>\n",
       "      <td>3</td>\n",
       "      <td>Electronics/Computers &amp; Tablets/Components &amp; P...</td>\n",
       "      <td>Razer</td>\n",
       "      <td>52.0</td>\n",
       "      <td>0</td>\n",
       "      <td>This keyboard is in great condition and works ...</td>\n",
       "    </tr>\n",
       "    <tr>\n",
       "      <th>6</th>\n",
       "      <td>6</td>\n",
       "      <td>Acacia pacific tides santorini top</td>\n",
       "      <td>3</td>\n",
       "      <td>Women/Swimwear/Two-Piece</td>\n",
       "      <td>Acacia Swimwear</td>\n",
       "      <td>64.0</td>\n",
       "      <td>0</td>\n",
       "      <td>Size small but straps slightly shortened to fi...</td>\n",
       "    </tr>\n",
       "    <tr>\n",
       "      <th>11</th>\n",
       "      <td>11</td>\n",
       "      <td>New vs pi k body mists</td>\n",
       "      <td>1</td>\n",
       "      <td>Beauty/Fragrance/Women</td>\n",
       "      <td>Victoria's Secret</td>\n",
       "      <td>34.0</td>\n",
       "      <td>0</td>\n",
       "      <td>(5) new vs pink body mists (2.5 oz each) Fresh...</td>\n",
       "    </tr>\n",
       "    <tr>\n",
       "      <th>12</th>\n",
       "      <td>12</td>\n",
       "      <td>Black Skater dress</td>\n",
       "      <td>2</td>\n",
       "      <td>Women/Dresses/Above Knee, Mini</td>\n",
       "      <td>rue</td>\n",
       "      <td>16.0</td>\n",
       "      <td>0</td>\n",
       "      <td>Xl, great condition</td>\n",
       "    </tr>\n",
       "    <tr>\n",
       "      <th>13</th>\n",
       "      <td>13</td>\n",
       "      <td>Sharpener and eraser</td>\n",
       "      <td>1</td>\n",
       "      <td>Other/Office supplies/School Supplies</td>\n",
       "      <td>Scholastic</td>\n",
       "      <td>4.0</td>\n",
       "      <td>1</td>\n",
       "      <td>No description yet</td>\n",
       "    </tr>\n",
       "    <tr>\n",
       "      <th>...</th>\n",
       "      <td>...</td>\n",
       "      <td>...</td>\n",
       "      <td>...</td>\n",
       "      <td>...</td>\n",
       "      <td>...</td>\n",
       "      <td>...</td>\n",
       "      <td>...</td>\n",
       "      <td>...</td>\n",
       "    </tr>\n",
       "    <tr>\n",
       "      <th>1482523</th>\n",
       "      <td>1482523</td>\n",
       "      <td>NARS illuminator orgasm</td>\n",
       "      <td>3</td>\n",
       "      <td>Beauty/Makeup/Face</td>\n",
       "      <td>Nars</td>\n",
       "      <td>8.0</td>\n",
       "      <td>0</td>\n",
       "      <td>Still more than half left in this! Color is or...</td>\n",
       "    </tr>\n",
       "    <tr>\n",
       "      <th>1482524</th>\n",
       "      <td>1482524</td>\n",
       "      <td>Penn State Jogger Sweatpants</td>\n",
       "      <td>2</td>\n",
       "      <td>Women/Athletic Apparel/Tracksuits &amp; Sweats</td>\n",
       "      <td>Nike</td>\n",
       "      <td>26.0</td>\n",
       "      <td>0</td>\n",
       "      <td>▪️NWOT ▪️Perfect Condition ▪️Barely been worn ...</td>\n",
       "    </tr>\n",
       "    <tr>\n",
       "      <th>1482528</th>\n",
       "      <td>1482528</td>\n",
       "      <td>Victoria's Secret Tankini Sz. Large</td>\n",
       "      <td>2</td>\n",
       "      <td>Women/Athletic Apparel/Sports Bras</td>\n",
       "      <td>Victoria's Secret</td>\n",
       "      <td>18.0</td>\n",
       "      <td>1</td>\n",
       "      <td>Purple and Paisley Victoria's Secret Tankini S...</td>\n",
       "    </tr>\n",
       "    <tr>\n",
       "      <th>1482529</th>\n",
       "      <td>1482529</td>\n",
       "      <td>Men's UA [rm]</td>\n",
       "      <td>2</td>\n",
       "      <td>Men/Athletic Apparel/Shirts &amp; Tops</td>\n",
       "      <td>Under Armour</td>\n",
       "      <td>34.0</td>\n",
       "      <td>0</td>\n",
       "      <td>[rm] for the set both in perfect condition no ...</td>\n",
       "    </tr>\n",
       "    <tr>\n",
       "      <th>1482530</th>\n",
       "      <td>1482530</td>\n",
       "      <td>Free People Inspired Dress</td>\n",
       "      <td>2</td>\n",
       "      <td>Women/Dresses/Mid-Calf</td>\n",
       "      <td>Free People</td>\n",
       "      <td>20.0</td>\n",
       "      <td>1</td>\n",
       "      <td>Lace, says size small but fits medium perfectl...</td>\n",
       "    </tr>\n",
       "  </tbody>\n",
       "</table>\n",
       "<p>677428 rows × 8 columns</p>\n",
       "</div>"
      ],
      "text/plain": [
       "         train_id                                 name  item_condition_id  \\\n",
       "1               1     Razer BlackWidow Chroma Keyboard                  3   \n",
       "6               6   Acacia pacific tides santorini top                  3   \n",
       "11             11               New vs pi k body mists                  1   \n",
       "12             12                   Black Skater dress                  2   \n",
       "13             13                 Sharpener and eraser                  1   \n",
       "...           ...                                  ...                ...   \n",
       "1482523   1482523              NARS illuminator orgasm                  3   \n",
       "1482524   1482524         Penn State Jogger Sweatpants                  2   \n",
       "1482528   1482528  Victoria's Secret Tankini Sz. Large                  2   \n",
       "1482529   1482529                        Men's UA [rm]                  2   \n",
       "1482530   1482530           Free People Inspired Dress                  2   \n",
       "\n",
       "                                             category_name         brand_name  \\\n",
       "1        Electronics/Computers & Tablets/Components & P...              Razer   \n",
       "6                                 Women/Swimwear/Two-Piece    Acacia Swimwear   \n",
       "11                                  Beauty/Fragrance/Women  Victoria's Secret   \n",
       "12                          Women/Dresses/Above Knee, Mini                rue   \n",
       "13                   Other/Office supplies/School Supplies         Scholastic   \n",
       "...                                                    ...                ...   \n",
       "1482523                                 Beauty/Makeup/Face               Nars   \n",
       "1482524         Women/Athletic Apparel/Tracksuits & Sweats               Nike   \n",
       "1482528                 Women/Athletic Apparel/Sports Bras  Victoria's Secret   \n",
       "1482529                 Men/Athletic Apparel/Shirts & Tops       Under Armour   \n",
       "1482530                             Women/Dresses/Mid-Calf        Free People   \n",
       "\n",
       "         price  shipping                                   item_description  \n",
       "1         52.0         0  This keyboard is in great condition and works ...  \n",
       "6         64.0         0  Size small but straps slightly shortened to fi...  \n",
       "11        34.0         0  (5) new vs pink body mists (2.5 oz each) Fresh...  \n",
       "12        16.0         0                                Xl, great condition  \n",
       "13         4.0         1                                 No description yet  \n",
       "...        ...       ...                                                ...  \n",
       "1482523    8.0         0  Still more than half left in this! Color is or...  \n",
       "1482524   26.0         0  ▪️NWOT ▪️Perfect Condition ▪️Barely been worn ...  \n",
       "1482528   18.0         1  Purple and Paisley Victoria's Secret Tankini S...  \n",
       "1482529   34.0         0  [rm] for the set both in perfect condition no ...  \n",
       "1482530   20.0         1  Lace, says size small but fits medium perfectl...  \n",
       "\n",
       "[677428 rows x 8 columns]"
      ]
     },
     "execution_count": 8,
     "metadata": {},
     "output_type": "execute_result"
    }
   ],
   "source": [
    "train = train.dropna()\n",
    "train"
   ]
  },
  {
   "cell_type": "code",
   "execution_count": 9,
   "id": "55180252",
   "metadata": {},
   "outputs": [
    {
     "name": "stdout",
     "output_type": "stream",
     "text": [
      "<class 'pandas.core.frame.DataFrame'>\n",
      "Int64Index: 677428 entries, 1 to 1482530\n",
      "Data columns (total 8 columns):\n",
      " #   Column             Non-Null Count   Dtype  \n",
      "---  ------             --------------   -----  \n",
      " 0   train_id           677428 non-null  int64  \n",
      " 1   name               677428 non-null  object \n",
      " 2   item_condition_id  677428 non-null  int64  \n",
      " 3   category_name      677428 non-null  object \n",
      " 4   brand_name         677428 non-null  object \n",
      " 5   price              677428 non-null  float64\n",
      " 6   shipping           677428 non-null  int64  \n",
      " 7   item_description   677428 non-null  object \n",
      "dtypes: float64(1), int64(3), object(4)\n",
      "memory usage: 46.5+ MB\n"
     ]
    }
   ],
   "source": [
    "train.info()"
   ]
  },
  {
   "cell_type": "code",
   "execution_count": null,
   "id": "96b4536d",
   "metadata": {},
   "outputs": [],
   "source": []
  },
  {
   "cell_type": "code",
   "execution_count": 10,
   "id": "618e748e",
   "metadata": {},
   "outputs": [
    {
     "data": {
      "text/html": [
       "<div>\n",
       "<style scoped>\n",
       "    .dataframe tbody tr th:only-of-type {\n",
       "        vertical-align: middle;\n",
       "    }\n",
       "\n",
       "    .dataframe tbody tr th {\n",
       "        vertical-align: top;\n",
       "    }\n",
       "\n",
       "    .dataframe thead th {\n",
       "        text-align: right;\n",
       "    }\n",
       "</style>\n",
       "<table border=\"1\" class=\"dataframe\">\n",
       "  <thead>\n",
       "    <tr style=\"text-align: right;\">\n",
       "      <th></th>\n",
       "      <th>train_id</th>\n",
       "      <th>item_condition_id</th>\n",
       "      <th>price</th>\n",
       "      <th>shipping</th>\n",
       "    </tr>\n",
       "  </thead>\n",
       "  <tbody>\n",
       "    <tr>\n",
       "      <th>count</th>\n",
       "      <td>6.774280e+05</td>\n",
       "      <td>677428.000000</td>\n",
       "      <td>677428.000000</td>\n",
       "      <td>677428.000000</td>\n",
       "    </tr>\n",
       "    <tr>\n",
       "      <th>mean</th>\n",
       "      <td>7.410965e+05</td>\n",
       "      <td>2.034579</td>\n",
       "      <td>30.936897</td>\n",
       "      <td>0.389138</td>\n",
       "    </tr>\n",
       "    <tr>\n",
       "      <th>std</th>\n",
       "      <td>4.278805e+05</td>\n",
       "      <td>0.902309</td>\n",
       "      <td>44.831767</td>\n",
       "      <td>0.487555</td>\n",
       "    </tr>\n",
       "    <tr>\n",
       "      <th>min</th>\n",
       "      <td>1.000000e+00</td>\n",
       "      <td>1.000000</td>\n",
       "      <td>0.000000</td>\n",
       "      <td>0.000000</td>\n",
       "    </tr>\n",
       "    <tr>\n",
       "      <th>25%</th>\n",
       "      <td>3.706348e+05</td>\n",
       "      <td>1.000000</td>\n",
       "      <td>12.000000</td>\n",
       "      <td>0.000000</td>\n",
       "    </tr>\n",
       "    <tr>\n",
       "      <th>50%</th>\n",
       "      <td>7.403985e+05</td>\n",
       "      <td>2.000000</td>\n",
       "      <td>20.000000</td>\n",
       "      <td>0.000000</td>\n",
       "    </tr>\n",
       "    <tr>\n",
       "      <th>75%</th>\n",
       "      <td>1.111714e+06</td>\n",
       "      <td>3.000000</td>\n",
       "      <td>34.000000</td>\n",
       "      <td>1.000000</td>\n",
       "    </tr>\n",
       "    <tr>\n",
       "      <th>max</th>\n",
       "      <td>1.482530e+06</td>\n",
       "      <td>5.000000</td>\n",
       "      <td>2009.000000</td>\n",
       "      <td>1.000000</td>\n",
       "    </tr>\n",
       "  </tbody>\n",
       "</table>\n",
       "</div>"
      ],
      "text/plain": [
       "           train_id  item_condition_id          price       shipping\n",
       "count  6.774280e+05      677428.000000  677428.000000  677428.000000\n",
       "mean   7.410965e+05           2.034579      30.936897       0.389138\n",
       "std    4.278805e+05           0.902309      44.831767       0.487555\n",
       "min    1.000000e+00           1.000000       0.000000       0.000000\n",
       "25%    3.706348e+05           1.000000      12.000000       0.000000\n",
       "50%    7.403985e+05           2.000000      20.000000       0.000000\n",
       "75%    1.111714e+06           3.000000      34.000000       1.000000\n",
       "max    1.482530e+06           5.000000    2009.000000       1.000000"
      ]
     },
     "execution_count": 10,
     "metadata": {},
     "output_type": "execute_result"
    }
   ],
   "source": [
    "train.describe()"
   ]
  },
  {
   "cell_type": "raw",
   "id": "882a7129",
   "metadata": {},
   "source": [
    "df = train.copy()"
   ]
  },
  {
   "cell_type": "code",
   "execution_count": 11,
   "id": "73904b58",
   "metadata": {},
   "outputs": [
    {
     "data": {
      "text/plain": [
       "((1185746, 8), (296789, 8))"
      ]
     },
     "execution_count": 11,
     "metadata": {},
     "output_type": "execute_result"
    }
   ],
   "source": [
    "msk = np.random.rand(len(df)) < 0.8\n",
    "train = df[msk]\n",
    "test = df[~msk]\n",
    "train.shape, test.shape"
   ]
  },
  {
   "cell_type": "code",
   "execution_count": null,
   "id": "1bf25779",
   "metadata": {},
   "outputs": [],
   "source": []
  },
  {
   "cell_type": "code",
   "execution_count": 12,
   "id": "a778cab9",
   "metadata": {},
   "outputs": [
    {
     "data": {
      "text/plain": [
       "Text(0.5, 1.0, 'Price Distribution')"
      ]
     },
     "execution_count": 12,
     "metadata": {},
     "output_type": "execute_result"
    },
    {
     "data": {
      "image/png": "[encoded data removed]",
      "text/plain": [
       "<Figure size 1200x600 with 2 Axes>"
      ]
     },
     "metadata": {},
     "output_type": "display_data"
    }
   ],
   "source": [
    "plt.subplot(1, 2, 1)\n",
    "(train['price']).plot.hist(bins=50, figsize=(12, 6), edgecolor = 'white', range = [0, 250])\n",
    "plt.xlabel('price', fontsize=12)\n",
    "plt.title('Price Distribution', fontsize=12)\n",
    "plt.subplot(1, 2, 2)\n",
    "np.log(train['price']+1).plot.hist(bins=50, figsize=(12,6), edgecolor='white')\n",
    "plt.xlabel('log(price+1)', fontsize=12)\n",
    "plt.title('Price Distribution', fontsize=12)"
   ]
  },
  {
   "cell_type": "code",
   "execution_count": 13,
   "id": "b9ba75f7",
   "metadata": {},
   "outputs": [
    {
     "data": {
      "text/plain": [
       "0    0.55269\n",
       "1    0.44731\n",
       "Name: shipping, dtype: float64"
      ]
     },
     "execution_count": 13,
     "metadata": {},
     "output_type": "execute_result"
    }
   ],
   "source": [
    "#Over 55% of items shipping fee were paid by the buyers.\n",
    "train['shipping'].value_counts() / len(train)"
   ]
  },
  {
   "cell_type": "code",
   "execution_count": 14,
   "id": "bd565325",
   "metadata": {},
   "outputs": [
    {
     "name": "stdout",
     "output_type": "stream",
     "text": [
      "The average price is 22.56 if seller pays shipping\n",
      "The average price is 30.1 if buyer pays shipping\n"
     ]
    }
   ],
   "source": [
    "shipping_fee_by_buyer = train.loc[df['shipping'] == 0, 'price']\n",
    "shipping_fee_by_seller = train.loc[df['shipping'] == 1, 'price']\n",
    "print('The average price is {}'.format(round(shipping_fee_by_seller.mean(), 2)), 'if seller pays shipping');\n",
    "print('The average price is {}'.format(round(shipping_fee_by_buyer.mean(), 2)), 'if buyer pays shipping')"
   ]
  },
  {
   "cell_type": "code",
   "execution_count": 15,
   "id": "2a6a01dc",
   "metadata": {},
   "outputs": [
    {
     "name": "stdout",
     "output_type": "stream",
     "text": [
      "There are 1270 unique values in category name column\n"
     ]
    }
   ],
   "source": [
    "print('There are', train['category_name'].nunique(), 'unique values in category name column')"
   ]
  },
  {
   "cell_type": "code",
   "execution_count": 16,
   "id": "da51ff97",
   "metadata": {},
   "outputs": [
    {
     "data": {
      "text/plain": [
       "<Axes: xlabel='item_condition_id', ylabel='price'>"
      ]
     },
     "execution_count": 16,
     "metadata": {},
     "output_type": "execute_result"
    },
    {
     "data": {
      "image/png": "[encoded data removed]",
      "text/plain": [
       "<Figure size 640x480 with 1 Axes>"
      ]
     },
     "metadata": {},
     "output_type": "display_data"
    }
   ],
   "source": [
    "sns.boxplot(x = 'item_condition_id', y = np.log(train['price']+1), data = train, palette = sns.color_palette('RdBu',5))"
   ]
  },
  {
   "cell_type": "code",
   "execution_count": 17,
   "id": "dfdc57bf",
   "metadata": {},
   "outputs": [
    {
     "data": {
      "text/html": [
       "<div>\n",
       "<style scoped>\n",
       "    .dataframe tbody tr th:only-of-type {\n",
       "        vertical-align: middle;\n",
       "    }\n",
       "\n",
       "    .dataframe tbody tr th {\n",
       "        vertical-align: top;\n",
       "    }\n",
       "\n",
       "    .dataframe thead th {\n",
       "        text-align: right;\n",
       "    }\n",
       "</style>\n",
       "<table border=\"1\" class=\"dataframe\">\n",
       "  <thead>\n",
       "    <tr style=\"text-align: right;\">\n",
       "      <th></th>\n",
       "      <th>train_id</th>\n",
       "      <th>name</th>\n",
       "      <th>item_condition_id</th>\n",
       "      <th>category_name</th>\n",
       "      <th>brand_name</th>\n",
       "      <th>price</th>\n",
       "      <th>shipping</th>\n",
       "      <th>item_description</th>\n",
       "    </tr>\n",
       "  </thead>\n",
       "  <tbody>\n",
       "    <tr>\n",
       "      <th>0</th>\n",
       "      <td>0</td>\n",
       "      <td>MLB Cincinnati Reds T Shirt Size XL</td>\n",
       "      <td>3</td>\n",
       "      <td>Men/Tops/T-shirts</td>\n",
       "      <td>NaN</td>\n",
       "      <td>10.0</td>\n",
       "      <td>1</td>\n",
       "      <td>No description yet</td>\n",
       "    </tr>\n",
       "    <tr>\n",
       "      <th>1</th>\n",
       "      <td>1</td>\n",
       "      <td>Razer BlackWidow Chroma Keyboard</td>\n",
       "      <td>3</td>\n",
       "      <td>Electronics/Computers &amp; Tablets/Components &amp; P...</td>\n",
       "      <td>Razer</td>\n",
       "      <td>52.0</td>\n",
       "      <td>0</td>\n",
       "      <td>This keyboard is in great condition and works ...</td>\n",
       "    </tr>\n",
       "    <tr>\n",
       "      <th>3</th>\n",
       "      <td>3</td>\n",
       "      <td>Leather Horse Statues</td>\n",
       "      <td>1</td>\n",
       "      <td>Home/Home Décor/Home Décor Accents</td>\n",
       "      <td>NaN</td>\n",
       "      <td>35.0</td>\n",
       "      <td>1</td>\n",
       "      <td>New with tags. Leather horses. Retail for [rm]...</td>\n",
       "    </tr>\n",
       "    <tr>\n",
       "      <th>5</th>\n",
       "      <td>5</td>\n",
       "      <td>Bundled items requested for Ruie</td>\n",
       "      <td>3</td>\n",
       "      <td>Women/Other/Other</td>\n",
       "      <td>NaN</td>\n",
       "      <td>59.0</td>\n",
       "      <td>0</td>\n",
       "      <td>Banana republic bottoms, Candies skirt with ma...</td>\n",
       "    </tr>\n",
       "    <tr>\n",
       "      <th>9</th>\n",
       "      <td>9</td>\n",
       "      <td>Porcelain clown doll checker pants VTG</td>\n",
       "      <td>3</td>\n",
       "      <td>Vintage &amp; Collectibles/Collectibles/Doll</td>\n",
       "      <td>NaN</td>\n",
       "      <td>8.0</td>\n",
       "      <td>0</td>\n",
       "      <td>I realized his pants are on backwards after th...</td>\n",
       "    </tr>\n",
       "    <tr>\n",
       "      <th>...</th>\n",
       "      <td>...</td>\n",
       "      <td>...</td>\n",
       "      <td>...</td>\n",
       "      <td>...</td>\n",
       "      <td>...</td>\n",
       "      <td>...</td>\n",
       "      <td>...</td>\n",
       "      <td>...</td>\n",
       "    </tr>\n",
       "    <tr>\n",
       "      <th>1482529</th>\n",
       "      <td>1482529</td>\n",
       "      <td>Men's UA [rm]</td>\n",
       "      <td>2</td>\n",
       "      <td>Men/Athletic Apparel/Shirts &amp; Tops</td>\n",
       "      <td>Under Armour</td>\n",
       "      <td>34.0</td>\n",
       "      <td>0</td>\n",
       "      <td>[rm] for the set both in perfect condition no ...</td>\n",
       "    </tr>\n",
       "    <tr>\n",
       "      <th>1482530</th>\n",
       "      <td>1482530</td>\n",
       "      <td>Free People Inspired Dress</td>\n",
       "      <td>2</td>\n",
       "      <td>Women/Dresses/Mid-Calf</td>\n",
       "      <td>Free People</td>\n",
       "      <td>20.0</td>\n",
       "      <td>1</td>\n",
       "      <td>Lace, says size small but fits medium perfectl...</td>\n",
       "    </tr>\n",
       "    <tr>\n",
       "      <th>1482532</th>\n",
       "      <td>1482532</td>\n",
       "      <td>21 day fix containers and eating plan</td>\n",
       "      <td>2</td>\n",
       "      <td>Sports &amp; Outdoors/Exercise/Fitness accessories</td>\n",
       "      <td>NaN</td>\n",
       "      <td>12.0</td>\n",
       "      <td>0</td>\n",
       "      <td>Used once or twice, still in great shape.</td>\n",
       "    </tr>\n",
       "    <tr>\n",
       "      <th>1482533</th>\n",
       "      <td>1482533</td>\n",
       "      <td>World markets lanterns</td>\n",
       "      <td>3</td>\n",
       "      <td>Home/Home Décor/Home Décor Accents</td>\n",
       "      <td>NaN</td>\n",
       "      <td>45.0</td>\n",
       "      <td>1</td>\n",
       "      <td>There is 2 of each one that you see! So 2 red ...</td>\n",
       "    </tr>\n",
       "    <tr>\n",
       "      <th>1482534</th>\n",
       "      <td>1482534</td>\n",
       "      <td>Brand new lux de ville wallet</td>\n",
       "      <td>1</td>\n",
       "      <td>Women/Women's Accessories/Wallets</td>\n",
       "      <td>NaN</td>\n",
       "      <td>22.0</td>\n",
       "      <td>0</td>\n",
       "      <td>New with tag, red with sparkle. Firm price, no...</td>\n",
       "    </tr>\n",
       "  </tbody>\n",
       "</table>\n",
       "<p>1185746 rows × 8 columns</p>\n",
       "</div>"
      ],
      "text/plain": [
       "         train_id                                    name  item_condition_id  \\\n",
       "0               0     MLB Cincinnati Reds T Shirt Size XL                  3   \n",
       "1               1        Razer BlackWidow Chroma Keyboard                  3   \n",
       "3               3                   Leather Horse Statues                  1   \n",
       "5               5        Bundled items requested for Ruie                  3   \n",
       "9               9  Porcelain clown doll checker pants VTG                  3   \n",
       "...           ...                                     ...                ...   \n",
       "1482529   1482529                           Men's UA [rm]                  2   \n",
       "1482530   1482530              Free People Inspired Dress                  2   \n",
       "1482532   1482532   21 day fix containers and eating plan                  2   \n",
       "1482533   1482533                  World markets lanterns                  3   \n",
       "1482534   1482534           Brand new lux de ville wallet                  1   \n",
       "\n",
       "                                             category_name    brand_name  \\\n",
       "0                                        Men/Tops/T-shirts           NaN   \n",
       "1        Electronics/Computers & Tablets/Components & P...         Razer   \n",
       "3                       Home/Home Décor/Home Décor Accents           NaN   \n",
       "5                                        Women/Other/Other           NaN   \n",
       "9                 Vintage & Collectibles/Collectibles/Doll           NaN   \n",
       "...                                                    ...           ...   \n",
       "1482529                 Men/Athletic Apparel/Shirts & Tops  Under Armour   \n",
       "1482530                             Women/Dresses/Mid-Calf   Free People   \n",
       "1482532     Sports & Outdoors/Exercise/Fitness accessories           NaN   \n",
       "1482533                 Home/Home Décor/Home Décor Accents           NaN   \n",
       "1482534                  Women/Women's Accessories/Wallets           NaN   \n",
       "\n",
       "         price  shipping                                   item_description  \n",
       "0         10.0         1                                 No description yet  \n",
       "1         52.0         0  This keyboard is in great condition and works ...  \n",
       "3         35.0         1  New with tags. Leather horses. Retail for [rm]...  \n",
       "5         59.0         0  Banana republic bottoms, Candies skirt with ma...  \n",
       "9          8.0         0  I realized his pants are on backwards after th...  \n",
       "...        ...       ...                                                ...  \n",
       "1482529   34.0         0  [rm] for the set both in perfect condition no ...  \n",
       "1482530   20.0         1  Lace, says size small but fits medium perfectl...  \n",
       "1482532   12.0         0          Used once or twice, still in great shape.  \n",
       "1482533   45.0         1  There is 2 of each one that you see! So 2 red ...  \n",
       "1482534   22.0         0  New with tag, red with sparkle. Firm price, no...  \n",
       "\n",
       "[1185746 rows x 8 columns]"
      ]
     },
     "execution_count": 17,
     "metadata": {},
     "output_type": "execute_result"
    }
   ],
   "source": [
    "train"
   ]
  },
  {
   "cell_type": "code",
   "execution_count": 18,
   "id": "6b656ec8",
   "metadata": {},
   "outputs": [
    {
     "data": {
      "text/plain": [
       "Index(['train_id', 'name', 'item_condition_id', 'category_name', 'brand_name',\n",
       "       'price', 'shipping', 'item_description'],\n",
       "      dtype='object')"
      ]
     },
     "execution_count": 18,
     "metadata": {},
     "output_type": "execute_result"
    }
   ],
   "source": [
    "train.columns"
   ]
  },
  {
   "cell_type": "code",
   "execution_count": null,
   "id": "7d192ec8",
   "metadata": {},
   "outputs": [],
   "source": []
  },
  {
   "cell_type": "code",
   "execution_count": null,
   "id": "2b878882",
   "metadata": {},
   "outputs": [],
   "source": []
  },
  {
   "cell_type": "code",
   "execution_count": 19,
   "id": "dde6ba50",
   "metadata": {},
   "outputs": [],
   "source": [
    "NUM_BRANDS = 10 \n",
    "NUM_CATEGORIES = 20\n",
    "\n",
    "def handle_missing_inplace(dataset): \n",
    "    dataset['category_name'].fillna(value='missing', inplace=True) \n",
    "    dataset['brand_name'].fillna(value='missing', inplace=True) \n",
    "    dataset['item_description'].replace('No description yet', 'missing', inplace=True)  # Separate .replace() calls\n",
    "    dataset['item_description'].fillna(value='missing', inplace=True)\n",
    "\n",
    "def cutting(dataset):\n",
    "    pop_brand = dataset['brand_name'].value_counts().loc[lambda x: x.index != 'missing'].index[:NUM_BRANDS]\n",
    "    dataset.loc[~dataset['brand_name'].isin(pop_brand), 'brand_name'] = 'missing'\n",
    "    pop_category = dataset['category_name'].value_counts().loc[lambda x: x.index != 'missing'].index[:NUM_CATEGORIES]\n",
    "\n",
    "def to_categorical(dataset):\n",
    "    dataset['category_name'] = dataset['category_name'].astype('category')\n",
    "    dataset['brand_name'] = dataset['brand_name'].astype('category')\n",
    "    dataset['item_condition_id'] = dataset['item_condition_id'].astype('category')\n"
   ]
  },
  {
   "cell_type": "code",
   "execution_count": null,
   "id": "c2bfc10c",
   "metadata": {},
   "outputs": [],
   "source": []
  },
  {
   "cell_type": "markdown",
   "id": "6193a03b",
   "metadata": {},
   "source": [
    "droping the price with zero"
   ]
  },
  {
   "cell_type": "code",
   "execution_count": null,
   "id": "928bcc12",
   "metadata": {},
   "outputs": [],
   "source": []
  },
  {
   "cell_type": "code",
   "execution_count": 20,
   "id": "feeb6af1",
   "metadata": {},
   "outputs": [],
   "source": [
    "df = pd.read_csv('train.tsv', sep = '\\t')\n",
    "msk = np.random.rand(len(df)) < 0.8\n",
    "train = df[msk]\n",
    "test = df[~msk]\n",
    "test_new = test.drop('price', axis=1)\n",
    "y_test = np.log1p(test[\"price\"])\n",
    "train = train[train.price != 0].reset_index(drop=True)"
   ]
  },
  {
   "cell_type": "code",
   "execution_count": 21,
   "id": "a66fc892",
   "metadata": {},
   "outputs": [],
   "source": [
    "#Merging train and test data\n",
    "nrow_train = train.shape[0]\n",
    "y = np.log1p(train[\"price\"])\n",
    "merge: pd.DataFrame = pd.concat([train, test_new])"
   ]
  },
  {
   "cell_type": "code",
   "execution_count": 22,
   "id": "f1296d9e",
   "metadata": {},
   "outputs": [],
   "source": [
    "handle_missing_inplace(merge)\n",
    "cutting(merge)\n",
    "to_categorical(merge)"
   ]
  },
  {
   "cell_type": "code",
   "execution_count": 23,
   "id": "ff14e115",
   "metadata": {},
   "outputs": [],
   "source": [
    "from sklearn.feature_extraction.text import CountVectorizer\n",
    "\n",
    "NAME_MIN_DF = 2\n",
    "cv_name = CountVectorizer(min_df=NAME_MIN_DF)\n",
    "X_name = cv_name.fit_transform(merge['name'])\n",
    "\n",
    "# Count vectorize category_name column.\n",
    "cv_category = CountVectorizer()\n",
    "X_category = cv_category.fit_transform(merge['category_name'])\n"
   ]
  },
  {
   "cell_type": "code",
   "execution_count": 25,
   "id": "cc54eda6",
   "metadata": {},
   "outputs": [],
   "source": [
    "from sklearn.feature_extraction.text import TfidfVectorizer\n"
   ]
  },
  {
   "cell_type": "code",
   "execution_count": 26,
   "id": "6e9eb040",
   "metadata": {},
   "outputs": [],
   "source": [
    "\n",
    "MAX_FEATURES_ITEM_DESCRIPTION = 1000 \n",
    "# TF-IDF vectorize item_description column.\n",
    "tv = TfidfVectorizer(max_features=MAX_FEATURES_ITEM_DESCRIPTION, ngram_range=(1, 3), stop_words='english')\n",
    "X_description = tv.fit_transform(merge['item_description'])\n"
   ]
  },
  {
   "cell_type": "code",
   "execution_count": 28,
   "id": "3c5f7a7d",
   "metadata": {},
   "outputs": [],
   "source": [
    "from sklearn.preprocessing import LabelBinarizer\n",
    "#Label binarize brand_name column.\n",
    "lb = LabelBinarizer(sparse_output=True)\n",
    "X_brand = lb.fit_transform(merge['brand_name'])"
   ]
  },
  {
   "cell_type": "code",
   "execution_count": 30,
   "id": "9d360657",
   "metadata": {},
   "outputs": [],
   "source": [
    "from scipy.sparse import csr_matrix\n",
    "#Create dummy variables for item_condition_id and shipping columns.\n",
    "X_dummies = csr_matrix(pd.get_dummies(merge[['item_condition_id', 'shipping']], sparse=True).values)"
   ]
  },
  {
   "cell_type": "code",
   "execution_count": 32,
   "id": "d68993d2",
   "metadata": {},
   "outputs": [],
   "source": [
    "from scipy.sparse import hstack\n",
    "#Create sparse merge.\n",
    "sparse_merge = hstack((X_dummies, X_description, X_brand, X_category, X_name)).tocsr()"
   ]
  },
  {
   "cell_type": "code",
   "execution_count": 33,
   "id": "09477a69",
   "metadata": {},
   "outputs": [],
   "source": [
    "#Remove features with document frequency <=1.\n",
    "mask = np.array(np.clip(sparse_merge.getnnz(axis=0) - 1, 0, 1), dtype=bool)\n",
    "sparse_merge = sparse_merge[:, mask]"
   ]
  },
  {
   "cell_type": "code",
   "execution_count": null,
   "id": "0649751d",
   "metadata": {},
   "outputs": [],
   "source": []
  },
  {
   "cell_type": "code",
   "execution_count": 34,
   "id": "f23d87fb",
   "metadata": {},
   "outputs": [],
   "source": [
    "#Separate train and test data from sparse merge.\n",
    "X = sparse_merge[:nrow_train]\n",
    "X_test = sparse_merge[nrow_train:]"
   ]
  },
  {
   "cell_type": "code",
   "execution_count": 38,
   "id": "22eaec68",
   "metadata": {},
   "outputs": [
    {
     "name": "stdout",
     "output_type": "stream",
     "text": [
      "Collecting lightgbm\n",
      "  Downloading lightgbm-4.0.0-py3-none-win_amd64.whl (1.3 MB)\n",
      "     ---------------------------------------- 1.3/1.3 MB 3.0 MB/s eta 0:00:00\n",
      "Requirement already satisfied: numpy in c:\\users\\sohan\\anaconda3\\lib\\site-packages (from lightgbm) (1.23.5)\n",
      "Requirement already satisfied: scipy in c:\\users\\sohan\\anaconda3\\lib\\site-packages (from lightgbm) (1.10.0)\n",
      "Installing collected packages: lightgbm\n",
      "Successfully installed lightgbm-4.0.0\n",
      "Note: you may need to restart the kernel to use updated packages.\n"
     ]
    }
   ],
   "source": [
    "pip install lightgbm\n"
   ]
  },
  {
   "cell_type": "code",
   "execution_count": null,
   "id": "59603bb2",
   "metadata": {},
   "outputs": [],
   "source": []
  },
  {
   "cell_type": "code",
   "execution_count": 39,
   "id": "39d6795c",
   "metadata": {},
   "outputs": [],
   "source": [
    "import lightgbm as lgb\n",
    "\n",
    "train_X = lgb.Dataset(X, label=y)"
   ]
  },
  {
   "cell_type": "code",
   "execution_count": 40,
   "id": "10a25a74",
   "metadata": {},
   "outputs": [],
   "source": [
    "params = {\n",
    "        'learning_rate': 0.75,\n",
    "        'application': 'regression',\n",
    "        'max_depth': 3,\n",
    "        'num_leaves': 100,\n",
    "        'verbosity': -1,\n",
    "        'metric': 'RMSE',\n",
    "    }"
   ]
  },
  {
   "cell_type": "code",
   "execution_count": 46,
   "id": "26e69089",
   "metadata": {},
   "outputs": [],
   "source": [
    "# Train the LightGBM model\n",
    "gbm = lgb.train(params, train_set=train_X, num_boost_round=3200)\n"
   ]
  },
  {
   "cell_type": "code",
   "execution_count": 47,
   "id": "4ea1242e",
   "metadata": {},
   "outputs": [],
   "source": [
    "\n",
    "#predict\n",
    "y_pred = gbm.predict(X_test, num_iteration=gbm.best_iteration)"
   ]
  },
  {
   "cell_type": "code",
   "execution_count": 48,
   "id": "431760dc",
   "metadata": {},
   "outputs": [
    {
     "name": "stdout",
     "output_type": "stream",
     "text": [
      "The rmse of prediction is: 0.46723389169535356\n"
     ]
    }
   ],
   "source": [
    "from sklearn.metrics import mean_squared_error\n",
    "print('The rmse of prediction is:', mean_squared_error(y_test, y_pred) ** 0.5)"
   ]
  },
  {
   "cell_type": "code",
   "execution_count": null,
   "id": "6aab1f91",
   "metadata": {},
   "outputs": [],
   "source": []
  },
  {
   "cell_type": "code",
   "execution_count": null,
   "id": "27e24e4a",
   "metadata": {},
   "outputs": [],
   "source": []
  },
  {
   "cell_type": "code",
   "execution_count": null,
   "id": "867b3579",
   "metadata": {},
   "outputs": [],
   "source": []
  }
 ],
 "metadata": {
  "kernelspec": {
   "display_name": "Python 3 (ipykernel)",
   "language": "python",
   "name": "python3"
  },
  "language_info": {
   "codemirror_mode": {
    "name": "ipython",
    "version": 3
   },
   "file_extension": ".py",
   "mimetype": "text/x-python",
   "name": "python",
   "nbconvert_exporter": "python",
   "pygments_lexer": "ipython3",
   "version": "3.10.9"
  }
 },
 "nbformat": 4,
 "nbformat_minor": 5
}
